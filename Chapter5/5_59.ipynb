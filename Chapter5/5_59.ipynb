{
 "cells": [
  {
   "cell_type": "code",
   "execution_count": 1,
   "metadata": {},
   "outputs": [
    {
     "name": "stdout",
     "output_type": "stream",
     "text": [
      "strawberry is red\n",
      "peach is pink\n",
      "banana is yellow\n"
     ]
    }
   ],
   "source": [
    "fruits = {\"strawberry\":\"red\",\"peach\":\"pink\",\"banana\":\"yellow\"}\n",
    "for fruit,color in fruits.items():\n",
    "    print(fruit,\"is\",color)"
   ]
  },
  {
   "cell_type": "code",
   "execution_count": 2,
   "metadata": {},
   "outputs": [
    {
     "name": "stdout",
     "output_type": "stream",
     "text": [
      "Aichi Nagoya\n",
      "Kanagawa Yokohama\n",
      "Hokkaido Sapporo\n"
     ]
    }
   ],
   "source": [
    "town = { \"Aichi\":\"Nagoya\",\"Kanagawa\":\"Yokohama\",\"Hokkaido\":\"Sapporo\"}\n",
    "for a,b in town.items():\n",
    "    print(a,b)"
   ]
  },
  {
   "cell_type": "code",
   "execution_count": null,
   "metadata": {},
   "outputs": [],
   "source": []
  }
 ],
 "metadata": {
  "kernelspec": {
   "display_name": "Python 3",
   "language": "python",
   "name": "python3"
  },
  "language_info": {
   "codemirror_mode": {
    "name": "ipython",
    "version": 3
   },
   "file_extension": ".py",
   "mimetype": "text/x-python",
   "name": "python",
   "nbconvert_exporter": "python",
   "pygments_lexer": "ipython3",
   "version": "3.6.5"
  }
 },
 "nbformat": 4,
 "nbformat_minor": 2
}
