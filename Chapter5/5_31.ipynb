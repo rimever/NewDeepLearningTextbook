{
 "cells": [
  {
   "cell_type": "code",
   "execution_count": 1,
   "metadata": {},
   "outputs": [
    {
     "name": "stdout",
     "output_type": "stream",
     "text": [
      "{'Japan': 'Osaka', 'Korea': 'Seoul', 'China': 'Beijin'}\n"
     ]
    }
   ],
   "source": [
    "dic = {\"Japan\":\"Tokyo\",\"Korea\":\"Seoul\"}\n",
    "dic[\"Japan\"] = \"Osaka\"\n",
    "dic[\"China\"] = \"Beijin\"\n",
    "print(dic)"
   ]
  },
  {
   "cell_type": "code",
   "execution_count": 2,
   "metadata": {},
   "outputs": [
    {
     "name": "stdout",
     "output_type": "stream",
     "text": [
      "{'Aichi': 'aichi', 'Kanagawa': 'Yokohama', 'Hokkaido': 'Sapporo'}\n",
      "{'Aichi': 'Nagoya', 'Kanagawa': 'Yokohama', 'Hokkaido': 'Sapporo'}\n"
     ]
    }
   ],
   "source": [
    "town = {\"Aichi\":\"aichi\",\"Kanagawa\":\"Yokohama\"}\n",
    "\n",
    "town[\"Hokkaido\"] = \"Sapporo\"\n",
    "print(town)\n",
    "\n",
    "town[\"Aichi\"] = \"Nagoya\"\n",
    "print(town)"
   ]
  },
  {
   "cell_type": "code",
   "execution_count": null,
   "metadata": {},
   "outputs": [],
   "source": []
  }
 ],
 "metadata": {
  "kernelspec": {
   "display_name": "Python 3",
   "language": "python",
   "name": "python3"
  },
  "language_info": {
   "codemirror_mode": {
    "name": "ipython",
    "version": 3
   },
   "file_extension": ".py",
   "mimetype": "text/x-python",
   "name": "python",
   "nbconvert_exporter": "python",
   "pygments_lexer": "ipython3",
   "version": "3.6.5"
  }
 },
 "nbformat": 4,
 "nbformat_minor": 2
}
