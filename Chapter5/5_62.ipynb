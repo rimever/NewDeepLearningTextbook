{
 "cells": [
  {
   "cell_type": "code",
   "execution_count": 10,
   "metadata": {},
   "outputs": [],
   "source": [
    "def shopping(money):\n",
    "    items = {\"eracer\": [ 100,2],\"pen\":[200,3],\"notebook\":[400,5]}\n",
    "    total_price = 0\n",
    "\n",
    "    for name,values in items.items():\n",
    "        print(name + \"は1個\" + str(values[0]) + \"円で、\" + str(values[1]) + \"個購入します\")\n",
    "        total_price = total_price + values[0] * values[1]\n",
    "\n",
    "    print(\"支払金額は\" + str(total_price) + \"円です\")\n",
    "\n",
    "    if money > total_price:\n",
    "        print(\"お釣りは\" + str(money - total_price) + \"円です\")\n",
    "    elif money == total_price:\n",
    "        print(\"お釣りはありません\")\n",
    "    else:\n",
    "        print(\"お金が足りません\")"
   ]
  },
  {
   "cell_type": "code",
   "execution_count": 11,
   "metadata": {},
   "outputs": [
    {
     "name": "stdout",
     "output_type": "stream",
     "text": [
      "eracerは1個100円で、2個購入します\n",
      "penは1個200円で、3個購入します\n",
      "notebookは1個400円で、5個購入します\n",
      "支払金額は2800円です\n",
      "お釣りは200円です\n"
     ]
    }
   ],
   "source": [
    "shopping(3000)"
   ]
  },
  {
   "cell_type": "code",
   "execution_count": 12,
   "metadata": {},
   "outputs": [
    {
     "name": "stdout",
     "output_type": "stream",
     "text": [
      "eracerは1個100円で、2個購入します\n",
      "penは1個200円で、3個購入します\n",
      "notebookは1個400円で、5個購入します\n",
      "支払金額は2800円です\n",
      "お釣りはありません\n"
     ]
    }
   ],
   "source": [
    "shopping(2800)"
   ]
  },
  {
   "cell_type": "code",
   "execution_count": 13,
   "metadata": {},
   "outputs": [
    {
     "name": "stdout",
     "output_type": "stream",
     "text": [
      "eracerは1個100円で、2個購入します\n",
      "penは1個200円で、3個購入します\n",
      "notebookは1個400円で、5個購入します\n",
      "支払金額は2800円です\n",
      "お金が足りません\n"
     ]
    }
   ],
   "source": [
    "shopping(2000)"
   ]
  },
  {
   "cell_type": "code",
   "execution_count": null,
   "metadata": {},
   "outputs": [],
   "source": []
  }
 ],
 "metadata": {
  "kernelspec": {
   "display_name": "Python 3",
   "language": "python",
   "name": "python3"
  },
  "language_info": {
   "codemirror_mode": {
    "name": "ipython",
    "version": 3
   },
   "file_extension": ".py",
   "mimetype": "text/x-python",
   "name": "python",
   "nbconvert_exporter": "python",
   "pygments_lexer": "ipython3",
   "version": "3.6.5"
  }
 },
 "nbformat": 4,
 "nbformat_minor": 2
}
