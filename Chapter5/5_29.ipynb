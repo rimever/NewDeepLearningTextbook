{
 "cells": [
  {
   "cell_type": "code",
   "execution_count": 1,
   "metadata": {},
   "outputs": [
    {
     "name": "stdout",
     "output_type": "stream",
     "text": [
      "Tokyo\n"
     ]
    }
   ],
   "source": [
    "dic = { \"Japan\":\"Tokyo\",\"Korea\":\"Seoul\"}\n",
    "print(dic[\"Japan\"])"
   ]
  },
  {
   "cell_type": "code",
   "execution_count": 2,
   "metadata": {},
   "outputs": [
    {
     "name": "stdout",
     "output_type": "stream",
     "text": [
      "Aichi の県庁所在地は Nagoya です\n",
      "Kanagawa の県庁所在地は Yokohama です\n"
     ]
    }
   ],
   "source": [
    "def printTown(prefecture):\n",
    "    town = {\"Aichi\":\"Nagoya\",\"Kanagawa\":\"Yokohama\"}\n",
    "    print(prefecture,\"の県庁所在地は\",town[prefecture],\"です\")\n",
    "    \n",
    "\n",
    "printTown(\"Aichi\")\n",
    "printTown(\"Kanagawa\")"
   ]
  },
  {
   "cell_type": "code",
   "execution_count": null,
   "metadata": {},
   "outputs": [],
   "source": []
  }
 ],
 "metadata": {
  "kernelspec": {
   "display_name": "Python 3",
   "language": "python",
   "name": "python3"
  },
  "language_info": {
   "codemirror_mode": {
    "name": "ipython",
    "version": 3
   },
   "file_extension": ".py",
   "mimetype": "text/x-python",
   "name": "python",
   "nbconvert_exporter": "python",
   "pygments_lexer": "ipython3",
   "version": "3.6.5"
  }
 },
 "nbformat": 4,
 "nbformat_minor": 2
}
