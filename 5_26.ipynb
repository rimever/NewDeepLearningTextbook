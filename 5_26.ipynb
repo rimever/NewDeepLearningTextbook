{
 "cells": [
  {
   "cell_type": "code",
   "execution_count": 1,
   "metadata": {},
   "outputs": [
    {
     "name": "stdout",
     "output_type": "stream",
     "text": [
      "{'Japan': 'Tokyo', 'Korea': 'Seoul'}\n"
     ]
    }
   ],
   "source": [
    "dic = {\"Japan\":\"Tokyo\",\"Korea\":\"Seoul\"}\n",
    "print(dic)"
   ]
  },
  {
   "cell_type": "code",
   "execution_count": 2,
   "metadata": {},
   "outputs": [
    {
     "name": "stdout",
     "output_type": "stream",
     "text": [
      "{'Aichi': 'Nagoya', 'Kanagawa': 'Yokohama'}\n",
      "<class 'dict'>\n"
     ]
    }
   ],
   "source": [
    "# 変数townに辞書を代入してください\n",
    "town = {\"Aichi\":\"Nagoya\",\"Kanagawa\":\"Yokohama\"}\n",
    "\n",
    "# townの出力\n",
    "print(town)\n",
    "\n",
    "# 型の出力\n",
    "print(type(town))"
   ]
  },
  {
   "cell_type": "code",
   "execution_count": null,
   "metadata": {},
   "outputs": [],
   "source": []
  }
 ],
 "metadata": {
  "kernelspec": {
   "display_name": "Python 3",
   "language": "python",
   "name": "python3"
  },
  "language_info": {
   "codemirror_mode": {
    "name": "ipython",
    "version": 3
   },
   "file_extension": ".py",
   "mimetype": "text/x-python",
   "name": "python",
   "nbconvert_exporter": "python",
   "pygments_lexer": "ipython3",
   "version": "3.6.5"
  }
 },
 "nbformat": 4,
 "nbformat_minor": 2
}
