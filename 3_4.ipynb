{
 "cells": [
  {
   "cell_type": "code",
   "execution_count": 1,
   "metadata": {},
   "outputs": [
    {
     "name": "stdout",
     "output_type": "stream",
     "text": [
      "F1: 0.800\n"
     ]
    }
   ],
   "source": [
    "from sklearn.metrics import precision_score\n",
    "from sklearn.metrics import recall_score,f1_score\n",
    "\n",
    "# データを格納します。ここでは0が陰性、1が陽性を示しています。\n",
    "y_true=[1,1,1,0,0,0]\n",
    "y_pred=[0,1,1,0,0,0]\n",
    "\n",
    "# 適合率と再現率をあらかじめ計算します\n",
    "precision = precision_score(y_true,y_pred)\n",
    "recall = recall_score(y_true,y_pred)\n",
    "\n",
    "# 以下の行にF1スコアの定義式を記述してください\n",
    "f1_score = 2 * precision * recall / (precision + recall)\n",
    "\n",
    "print(\"F1: %.3f\" % f1_score)"
   ]
  },
  {
   "cell_type": "code",
   "execution_count": null,
   "metadata": {},
   "outputs": [],
   "source": []
  }
 ],
 "metadata": {
  "kernelspec": {
   "display_name": "Python 3",
   "language": "python",
   "name": "python3"
  },
  "language_info": {
   "codemirror_mode": {
    "name": "ipython",
    "version": 3
   },
   "file_extension": ".py",
   "mimetype": "text/x-python",
   "name": "python",
   "nbconvert_exporter": "python",
   "pygments_lexer": "ipython3",
   "version": "3.6.5"
  }
 },
 "nbformat": 4,
 "nbformat_minor": 2
}
