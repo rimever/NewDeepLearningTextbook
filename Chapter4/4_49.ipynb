{
 "cells": [
  {
   "cell_type": "code",
   "execution_count": 1,
   "metadata": {},
   "outputs": [
    {
     "name": "stdout",
     "output_type": "stream",
     "text": [
      "2000 年はうるう年です\n"
     ]
    }
   ],
   "source": [
    "# 変数yearに西暦で年を入力してください\n",
    "year = 2000\n",
    "\n",
    "# if文により条件分岐をし、うるう年か平年かを判別します\n",
    "if not(year % 400 > 0 and year % 100 == 0) and year % 4 == 0:\n",
    "    print(year,\"年はうるう年です\")\n",
    "else:\n",
    "    print(year,\"年は平年です \")"
   ]
  },
  {
   "cell_type": "code",
   "execution_count": null,
   "metadata": {},
   "outputs": [],
   "source": []
  }
 ],
 "metadata": {
  "kernelspec": {
   "display_name": "Python 3",
   "language": "python",
   "name": "python3"
  },
  "language_info": {
   "codemirror_mode": {
    "name": "ipython",
    "version": 3
   },
   "file_extension": ".py",
   "mimetype": "text/x-python",
   "name": "python",
   "nbconvert_exporter": "python",
   "pygments_lexer": "ipython3",
   "version": "3.6.5"
  }
 },
 "nbformat": 4,
 "nbformat_minor": 2
}
