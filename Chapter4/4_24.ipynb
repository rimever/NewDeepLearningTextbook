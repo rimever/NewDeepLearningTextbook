{
 "cells": [
  {
   "cell_type": "code",
   "execution_count": 1,
   "metadata": {},
   "outputs": [
    {
     "name": "stdout",
     "output_type": "stream",
     "text": [
      "<class 'float'>\n",
      "<class 'int'>\n",
      "20.761245674740486\n",
      "<class 'float'>\n"
     ]
    }
   ],
   "source": [
    "h = 1.7\n",
    "w = 60\n",
    "\n",
    "# 変数h,wの型を出力してください\n",
    "print(type(h))\n",
    "print(type(w))\n",
    "\n",
    "# 変数bmiに計算結果を代入してください\n",
    "bmi = w / h**2\n",
    "\n",
    "# 変数bmiを出力してください\n",
    "print(bmi)\n",
    "\n",
    "# 変数bmiの型を出力してください\n",
    "print(type(bmi))"
   ]
  },
  {
   "cell_type": "code",
   "execution_count": null,
   "metadata": {},
   "outputs": [],
   "source": []
  }
 ],
 "metadata": {
  "kernelspec": {
   "display_name": "Python 3",
   "language": "python",
   "name": "python3"
  },
  "language_info": {
   "codemirror_mode": {
    "name": "ipython",
    "version": 3
   },
   "file_extension": ".py",
   "mimetype": "text/x-python",
   "name": "python",
   "nbconvert_exporter": "python",
   "pygments_lexer": "ipython3",
   "version": "3.6.5"
  }
 },
 "nbformat": 4,
 "nbformat_minor": 2
}
