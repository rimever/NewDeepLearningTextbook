{
 "cells": [
  {
   "cell_type": "code",
   "execution_count": 1,
   "metadata": {},
   "outputs": [
    {
     "name": "stdout",
     "output_type": "stream",
     "text": [
      "ねこ\n",
      "いぬ\n",
      "14\n",
      "70\n"
     ]
    }
   ],
   "source": [
    "m = \"ねこ\"\n",
    "print(m)\n",
    "\n",
    "# 変数mに「いぬ」を上書きして、出力してください\n",
    "m  = \"いぬ\"\n",
    "print(m)\n",
    "\n",
    "n = 14\n",
    "print(n)\n",
    "\n",
    "# 変数nに５を掛けて、上書きしてください\n",
    "n *= 5\n",
    "\n",
    "print(n)"
   ]
  },
  {
   "cell_type": "code",
   "execution_count": null,
   "metadata": {},
   "outputs": [],
   "source": []
  }
 ],
 "metadata": {
  "kernelspec": {
   "display_name": "Python 3",
   "language": "python",
   "name": "python3"
  },
  "language_info": {
   "codemirror_mode": {
    "name": "ipython",
    "version": 3
   },
   "file_extension": ".py",
   "mimetype": "text/x-python",
   "name": "python",
   "nbconvert_exporter": "python",
   "pygments_lexer": "ipython3",
   "version": "3.6.5"
  }
 },
 "nbformat": 4,
 "nbformat_minor": 2
}
