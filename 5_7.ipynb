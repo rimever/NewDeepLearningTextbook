{
 "cells": [
  {
   "cell_type": "code",
   "execution_count": 1,
   "metadata": {},
   "outputs": [
    {
     "name": "stdout",
     "output_type": "stream",
     "text": [
      "[['りんご ', 2], ['みかん', 10]]\n"
     ]
    }
   ],
   "source": [
    "fruits_name_1 = \"りんご \"\n",
    "fruits_num_1 = 2\n",
    "fruits_name_2 = \"みかん\"\n",
    "fruits_num_2 = 10\n",
    "\n",
    "fruits = [[fruits_name_1,fruits_num_1],[fruits_name_2,fruits_num_2]]\n",
    "print(fruits)"
   ]
  },
  {
   "cell_type": "code",
   "execution_count": null,
   "metadata": {},
   "outputs": [],
   "source": []
  }
 ],
 "metadata": {
  "kernelspec": {
   "display_name": "Python 3",
   "language": "python",
   "name": "python3"
  },
  "language_info": {
   "codemirror_mode": {
    "name": "ipython",
    "version": 3
   },
   "file_extension": ".py",
   "mimetype": "text/x-python",
   "name": "python",
   "nbconvert_exporter": "python",
   "pygments_lexer": "ipython3",
   "version": "3.6.5"
  }
 },
 "nbformat": 4,
 "nbformat_minor": 2
}
