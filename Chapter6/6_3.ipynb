{
 "cells": [
  {
   "cell_type": "code",
   "execution_count": 2,
   "metadata": {},
   "outputs": [
    {
     "name": "stdout",
     "output_type": "stream",
     "text": [
      "[1, 2, 10, 20]\n"
     ]
    }
   ],
   "source": [
    "mylist = [1,10,2,20]\n",
    "mylist.sort()\n",
    "print(mylist)"
   ]
  },
  {
   "cell_type": "code",
   "execution_count": 3,
   "metadata": {},
   "outputs": [],
   "source": [
    "class MyProduct:\n",
    "    # コンストラクタの定義をします\n",
    "    def __init__(self,name,price):\n",
    "        self.name = name\n",
    "        self.price = price\n",
    "        self.stock = 0\n",
    "        self.sales = 0"
   ]
  },
  {
   "cell_type": "code",
   "execution_count": 4,
   "metadata": {},
   "outputs": [],
   "source": [
    "product1 = MyProduct(\"cake\",500)"
   ]
  },
  {
   "cell_type": "code",
   "execution_count": 5,
   "metadata": {},
   "outputs": [
    {
     "name": "stdout",
     "output_type": "stream",
     "text": [
      "20\n"
     ]
    }
   ],
   "source": [
    "class MyProduct:\n",
    "    def __init__(self,name,price,stock):\n",
    "        self.name = name\n",
    "        self.price = price\n",
    "        self.stock = stock\n",
    "\n",
    "product1 = MyProduct(\"cake\",500,20)\n",
    "print(product1.stock)"
   ]
  },
  {
   "cell_type": "code",
   "execution_count": 6,
   "metadata": {},
   "outputs": [],
   "source": [
    "class MyProduct:\n",
    "    def __init__(self,name,price,stock):\n",
    "        self.name = name\n",
    "        self.price = price\n",
    "        self.stock = stock\n",
    "        self.sales = 0\n",
    "        \n",
    "    # 仕入れメソッド\n",
    "    def buy_up(self, n):\n",
    "        self.stock += n\n",
    "        \n",
    "    # 売却メソッド\n",
    "    def sell(self, n):\n",
    "        self.stock -= n\n",
    "        self.sales += n * self.price\n",
    "        \n",
    "    # 概要メソッド\n",
    "    def summary(self):\n",
    "        message = \"called summary().\\n name: \" + self.name + \"\\n price: \" + str(self.price) + \"\\n stock: \" + str(self.stock) + \"\\n sales:\" + str(self.sales)\n",
    "        print(message)"
   ]
  },
  {
   "cell_type": "code",
   "execution_count": 7,
   "metadata": {},
   "outputs": [
    {
     "name": "stdout",
     "output_type": "stream",
     "text": [
      "called summary().\n",
      " name: phone\n",
      " price: 25000\n",
      " stock: 100\n",
      " sales:0\n"
     ]
    }
   ],
   "source": [
    "class MyProduct:\n",
    "    def __init__(self,name,price,stock):\n",
    "        self.name = name\n",
    "        self.price = price\n",
    "        self.stock = stock\n",
    "        self.sales = 0\n",
    "        \n",
    "    # 概要メソッド\n",
    "    def summary(self):\n",
    "        message = \"called summary().\\n name: \" + self.name + \"\\n price: \" + str(self.price) + \"\\n stock: \" + str(self.stock) + \"\\n sales:\" + str(self.sales)\n",
    "        print(message)\n",
    "        \n",
    "    def get_name(self):\n",
    "        return name\n",
    "    \n",
    "    def discount(self,price):\n",
    "        self.price -= price\n",
    "        \n",
    "product_2 = MyProduct(\"phone\",30000,100)\n",
    "product_2.discount(5000)\n",
    "product_2.summary()"
   ]
  },
  {
   "cell_type": "code",
   "execution_count": 10,
   "metadata": {},
   "outputs": [],
   "source": [
    "class MyProductSalesTax(MyProduct):\n",
    "    def __init__(self, name, price, stock, tax_rate):\n",
    "        super().__init__(name,price,stock)\n",
    "        self.tax_rate = tax_rate\n",
    "        \n",
    "    def get_name(self):\n",
    "        return self.name + \"（税込）\"\n",
    "    \n",
    "    def get_price_with_tax(self):\n",
    "        return int(self.price * (1 + self.tax_rate))"
   ]
  },
  {
   "cell_type": "code",
   "execution_count": 11,
   "metadata": {},
   "outputs": [
    {
     "name": "stdout",
     "output_type": "stream",
     "text": [
      "phone（税込）\n",
      "33000\n",
      "called summary().\n",
      " name: phone\n",
      " price: 30000\n",
      " stock: 100\n",
      " sales:0\n"
     ]
    }
   ],
   "source": [
    "product_3 = MyProductSalesTax(\"phone\",30000,100,0.1)\n",
    "print(product_3.get_name())\n",
    "print(product_3.get_price_with_tax())\n",
    "\n",
    "product_3.summary()"
   ]
  },
  {
   "cell_type": "code",
   "execution_count": 13,
   "metadata": {},
   "outputs": [
    {
     "name": "stdout",
     "output_type": "stream",
     "text": [
      "phone（税込）\n",
      "33000\n",
      "calles summary().\n",
      " name: phone（税込）\n",
      " price: 33000\n",
      " stock: 100\n",
      " sales: 0\n"
     ]
    }
   ],
   "source": [
    "class MyProduct:\n",
    "    def __init__(self, name, price, stock):\n",
    "        self.name = name\n",
    "        self.price = price\n",
    "        self.stock = stock\n",
    "        self.sales = 0\n",
    "        \n",
    "    def summary(self):\n",
    "        message = \"calles summary().\\n name: \" + self.get_name() + \"\\n price: \" + str(self.price) + \"\\n stock:\" + str(self.stock) + \"\\n sales: \" + str(self.sales)\n",
    "        print(message)\n",
    "    \n",
    "    def get_name(self):\n",
    "        return self.name\n",
    "    \n",
    "    def discount(self, n):\n",
    "        self.price -= n\n",
    "        \n",
    "class MyProductSalesTax(MyProduct):\n",
    "    def __init__(self, name, price, stock, tax_rate):\n",
    "        super().__init__(name, price, stock)\n",
    "        self.tax_rate = tax_rate\n",
    "        \n",
    "    def get_name(self):\n",
    "        return self.name + \"（税込）\"\n",
    "    \n",
    "    def get_price_with_tax(self):\n",
    "        return int(self.price * (1 + self.tax_rate))\n",
    "    \n",
    "    def summary(self):\n",
    "        message = \"calles summary().\\n name: \" + self.get_name() + \"\\n price: \" + str(self.get_price_with_tax()) + \"\\n stock: \" + str(self.stock) + \"\\n sales: \" + str(self.sales)\n",
    "        print(message)\n",
    "\n",
    "product_3 = MyProductSalesTax(\"phone\",30000,100,0.1)\n",
    "print(product_3.get_name())\n",
    "print(product_3.get_price_with_tax())\n",
    "product_3.summary()\n"
   ]
  },
  {
   "cell_type": "code",
   "execution_count": null,
   "metadata": {},
   "outputs": [],
   "source": []
  }
 ],
 "metadata": {
  "kernelspec": {
   "display_name": "Python 3",
   "language": "python",
   "name": "python3"
  },
  "language_info": {
   "codemirror_mode": {
    "name": "ipython",
    "version": 3
   },
   "file_extension": ".py",
   "mimetype": "text/x-python",
   "name": "python",
   "nbconvert_exporter": "python",
   "pygments_lexer": "ipython3",
   "version": "3.6.5"
  }
 },
 "nbformat": 4,
 "nbformat_minor": 2
}
