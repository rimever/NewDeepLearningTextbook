{
 "cells": [
  {
   "cell_type": "code",
   "execution_count": 1,
   "metadata": {},
   "outputs": [
    {
     "name": "stdout",
     "output_type": "stream",
     "text": [
      "[1, 2, 10, 20]\n"
     ]
    }
   ],
   "source": [
    "mylist = [1,10,2,20]\n",
    "mylist.sort()\n",
    "print(mylist)"
   ]
  },
  {
   "cell_type": "code",
   "execution_count": 2,
   "metadata": {},
   "outputs": [],
   "source": [
    "class MyProduct:\n",
    "    # コンストラクタの定義をします\n",
    "    def __init__(self,name,price):\n",
    "        self.name = name\n",
    "        self.price = price\n",
    "        self.stock = 0\n",
    "        self.sales = 0"
   ]
  },
  {
   "cell_type": "code",
   "execution_count": 3,
   "metadata": {},
   "outputs": [],
   "source": [
    "product1 = MyProduct(\"cake\",500)"
   ]
  },
  {
   "cell_type": "code",
   "execution_count": 5,
   "metadata": {},
   "outputs": [
    {
     "name": "stdout",
     "output_type": "stream",
     "text": [
      "20\n"
     ]
    }
   ],
   "source": [
    "class MyProduct:\n",
    "    def __init__(self,name,price,stock):\n",
    "        self.name = name\n",
    "        self.price = price\n",
    "        self.stock = stock\n",
    "\n",
    "product1 = MyProduct(\"cake\",500,20)\n",
    "print(product1.stock)"
   ]
  },
  {
   "cell_type": "code",
   "execution_count": 6,
   "metadata": {},
   "outputs": [],
   "source": [
    "class MyProduct:\n",
    "    def __init__(self,name,price,stock):\n",
    "        self.name = name\n",
    "        self.price = price\n",
    "        self.stock = stock\n",
    "        self.sales = 0\n",
    "        \n",
    "    # 仕入れメソッド\n",
    "    def buy_up(self, n):\n",
    "        self.stock += n\n",
    "        \n",
    "    # 売却メソッド\n",
    "    def sell(self, n):\n",
    "        self.stock -= n\n",
    "        self.sales += n * self.price\n",
    "        \n",
    "    # 概要メソッド\n",
    "    def summary(self):\n",
    "        message = \"called summary().¥n name: \" + self.name + \"¥n price: \" + str(self.price) + \"¥n stock: \" + str(self.stock) + \"¥n sales:\" + str(self.sales)\n",
    "        print(message)"
   ]
  },
  {
   "cell_type": "code",
   "execution_count": 7,
   "metadata": {},
   "outputs": [
    {
     "name": "stdout",
     "output_type": "stream",
     "text": [
      "called summary().¥n name: phone¥n price: 25000¥n stock: 100¥n sales:0\n"
     ]
    }
   ],
   "source": [
    "class MyProduct:\n",
    "    def __init__(self,name,price,stock):\n",
    "        self.name = name\n",
    "        self.price = price\n",
    "        self.stock = stock\n",
    "        self.sales = 0\n",
    "        \n",
    "    # 概要メソッド\n",
    "    def summary(self):\n",
    "        message = \"called summary().n name: \" + self.name + \"¥n price: \" + str(self.price) + \"¥n stock: \" + str(self.stock) + \"¥n sales:\" + str(self.sales)\n",
    "        print(message)\n",
    "        \n",
    "    def get_name(self):\n",
    "        return name\n",
    "    \n",
    "    def discount(self,price):\n",
    "        self.price -= price\n",
    "        \n",
    "product_2 = MyProduct(\"phone\",30000,100)\n",
    "product_2.discount(5000)\n",
    "product_2.summary()"
   ]
  },
  {
   "cell_type": "code",
   "execution_count": null,
   "metadata": {},
   "outputs": [],
   "source": []
  }
 ],
 "metadata": {
  "kernelspec": {
   "display_name": "Python 3",
   "language": "python",
   "name": "python3"
  },
  "language_info": {
   "codemirror_mode": {
    "name": "ipython",
    "version": 3
   },
   "file_extension": ".py",
   "mimetype": "text/x-python",
   "name": "python",
   "nbconvert_exporter": "python",
   "pygments_lexer": "ipython3",
   "version": "3.6.5"
  }
 },
 "nbformat": 4,
 "nbformat_minor": 2
}
