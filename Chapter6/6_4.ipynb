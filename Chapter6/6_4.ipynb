{
 "cells": [
  {
   "cell_type": "code",
   "execution_count": 1,
   "metadata": {},
   "outputs": [
    {
     "name": "stdout",
     "output_type": "stream",
     "text": [
      "円周率は3.141592\n",
      "円周率は3.14\n"
     ]
    }
   ],
   "source": [
    "pai = 3.141592\n",
    "print(\"円周率は%f\" % pai)\n",
    "print(\"円周率は%.2f\" % pai)"
   ]
  },
  {
   "cell_type": "code",
   "execution_count": 2,
   "metadata": {},
   "outputs": [
    {
     "name": "stdout",
     "output_type": "stream",
     "text": [
      "bmiは23.2558です\n"
     ]
    }
   ],
   "source": [
    "def bmi(height,weight):\n",
    "    return weight / height**2\n",
    "\n",
    "# bmiは**ですと出力させてください。ただし小数点4桁まで\n",
    "print(\"bmiは%.4fです\" % bmi(1.72,68.8))"
   ]
  },
  {
   "cell_type": "code",
   "execution_count": 4,
   "metadata": {},
   "outputs": [
    {
     "name": "stdout",
     "output_type": "stream",
     "text": [
      "2\n"
     ]
    }
   ],
   "source": [
    "def check_character(array,c):\n",
    "    return array.count(c)\n",
    "\n",
    "print(check_character([1,2,4,5,5,3],5))"
   ]
  },
  {
   "cell_type": "code",
   "execution_count": 8,
   "metadata": {},
   "outputs": [
    {
     "name": "stdout",
     "output_type": "stream",
     "text": [
      "11 は 10 にあります\n"
     ]
    }
   ],
   "source": [
    "def binary_search(numbers, target_number, start_index = 0):\n",
    "    # データの中央値を取る\n",
    "    center_index = len(numbers) // 2\n",
    "    center_number = numbers[center_index]\n",
    "    if center_number == target_number:\n",
    "        print(target_number, \"は\",start_index + center_index,\"にあります\")\n",
    "        return\n",
    "    elif center_number < target_number:\n",
    "        binary_search(numbers[center_index + 1:],target_number,start_index + center_index + 1)\n",
    "    else:\n",
    "        binary_search(numbers[:center_index],target_number,start_index)\n",
    "        \n",
    "    \n",
    "\n",
    "numbers = [1,2,3,4,5,6,7,8,9,10,11,12,13]\n",
    "target_number = 11\n",
    "binary_search(numbers,target_number)"
   ]
  },
  {
   "cell_type": "code",
   "execution_count": null,
   "metadata": {},
   "outputs": [],
   "source": []
  }
 ],
 "metadata": {
  "kernelspec": {
   "display_name": "Python 3",
   "language": "python",
   "name": "python3"
  },
  "language_info": {
   "codemirror_mode": {
    "name": "ipython",
    "version": 3
   },
   "file_extension": ".py",
   "mimetype": "text/x-python",
   "name": "python",
   "nbconvert_exporter": "python",
   "pygments_lexer": "ipython3",
   "version": "3.6.5"
  }
 },
 "nbformat": 4,
 "nbformat_minor": 2
}
