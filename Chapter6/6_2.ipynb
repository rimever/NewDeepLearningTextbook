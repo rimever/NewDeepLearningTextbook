{
 "cells": [
  {
   "cell_type": "code",
   "execution_count": 2,
   "metadata": {},
   "outputs": [
    {
     "name": "stdout",
     "output_type": "stream",
     "text": [
      "歌います！\n"
     ]
    }
   ],
   "source": [
    "def sing():\n",
    "    print(\"歌います！\")\n",
    "    \n",
    "sing()"
   ]
  },
  {
   "cell_type": "code",
   "execution_count": 3,
   "metadata": {},
   "outputs": [
    {
     "name": "stdout",
     "output_type": "stream",
     "text": [
      "Yamadaです\n"
     ]
    }
   ],
   "source": [
    "def introduce():\n",
    "    print(\"Yamadaです\")\n",
    "    \n",
    "introduce()"
   ]
  },
  {
   "cell_type": "code",
   "execution_count": 5,
   "metadata": {},
   "outputs": [
    {
     "name": "stdout",
     "output_type": "stream",
     "text": [
      "Yamadaです\n"
     ]
    }
   ],
   "source": [
    "def introduce(n):\n",
    "    print(n + \"です\")\n",
    "    \n",
    "introduce(\"Yamada\")"
   ]
  },
  {
   "cell_type": "code",
   "execution_count": 6,
   "metadata": {},
   "outputs": [
    {
     "name": "stdout",
     "output_type": "stream",
     "text": [
      "64\n"
     ]
    }
   ],
   "source": [
    "def cube_cal(n):\n",
    "    print(n**3)\n",
    "    \n",
    "cube_cal(4)"
   ]
  },
  {
   "cell_type": "code",
   "execution_count": 7,
   "metadata": {},
   "outputs": [
    {
     "name": "stdout",
     "output_type": "stream",
     "text": [
      "名字はYamadaで、名前はtaroです。\n"
     ]
    }
   ],
   "source": [
    "def introduce(first,second):\n",
    "    print(\"名字は\" + first + \"で、名前は\" + second + \"です。\")\n",
    "    \n",
    "introduce(\"Yamada\",\"taro\")"
   ]
  },
  {
   "cell_type": "code",
   "execution_count": 9,
   "metadata": {},
   "outputs": [
    {
     "name": "stdout",
     "output_type": "stream",
     "text": [
      "Yamadaです。18歳です。\n"
     ]
    }
   ],
   "source": [
    "def introduce(n,age):\n",
    "    print(n + \"です。\" + str(age) + \"歳です。\")\n",
    "\n",
    "introduce(\"Yamada\",18)"
   ]
  },
  {
   "cell_type": "code",
   "execution_count": 10,
   "metadata": {},
   "outputs": [
    {
     "name": "stdout",
     "output_type": "stream",
     "text": [
      "名字はSuzukiで、名前はTaroです。\n"
     ]
    }
   ],
   "source": [
    "def introduce(first = \"Yamada\",second = \"Taro\"):\n",
    "    print(\"名字は\" + first + \"で、名前は\" + second + \"です。\")\n",
    "\n",
    "introduce(\"Suzuki\")"
   ]
  },
  {
   "cell_type": "code",
   "execution_count": 11,
   "metadata": {},
   "outputs": [
    {
     "name": "stdout",
     "output_type": "stream",
     "text": [
      "名字はSuzukiで、名前はTaroです。\n"
     ]
    }
   ],
   "source": [
    "def introduce(first,second = \"Taro\"):\n",
    "    print(\"名字は\" + first + \"で、名前は\" + second + \"です。\")\n",
    "    \n",
    "introduce(\"Suzuki\")"
   ]
  },
  {
   "cell_type": "code",
   "execution_count": 12,
   "metadata": {},
   "outputs": [
    {
     "ename": "SyntaxError",
     "evalue": "non-default argument follows default argument (<ipython-input-12-98a529915e93>, line 1)",
     "output_type": "error",
     "traceback": [
      "\u001b[0;36m  File \u001b[0;32m\"<ipython-input-12-98a529915e93>\"\u001b[0;36m, line \u001b[0;32m1\u001b[0m\n\u001b[0;31m    def introduce(first = \"Suzuki\",second):\u001b[0m\n\u001b[0m                 ^\u001b[0m\n\u001b[0;31mSyntaxError\u001b[0m\u001b[0;31m:\u001b[0m non-default argument follows default argument\n"
     ]
    }
   ],
   "source": [
    "def introduce(first = \"Suzuki\",second):\n",
    "    print(\"名字は\" + first + \"で、名前は\" + second + \"です。\")"
   ]
  },
  {
   "cell_type": "code",
   "execution_count": 13,
   "metadata": {},
   "outputs": [
    {
     "name": "stdout",
     "output_type": "stream",
     "text": [
      "Yamadaです。18歳です。\n"
     ]
    }
   ],
   "source": [
    "def introduce(age,n=\"Yamada\"):\n",
    "    print(n + \"です。\" + str(age) + \"歳です。\")\n",
    "    \n",
    "introduce(18)"
   ]
  },
  {
   "cell_type": "code",
   "execution_count": 15,
   "metadata": {},
   "outputs": [
    {
     "name": "stdout",
     "output_type": "stream",
     "text": [
      "名字はSuzukiで、名前はTaroです。\n"
     ]
    }
   ],
   "source": [
    "def introduce(first = \"Yamada\",second=\"Taro\"):\n",
    "    return \"名字は\" + first + \"で、名前は\" + second + \"です。\"\n",
    "\n",
    "print(introduce(\"Suzuki\"))"
   ]
  },
  {
   "cell_type": "code",
   "execution_count": 16,
   "metadata": {},
   "outputs": [
    {
     "name": "stdout",
     "output_type": "stream",
     "text": [
      "名字はSuzukiで、名前はTaroです。\n"
     ]
    }
   ],
   "source": [
    "def introduce(first = \"Yamada\",second = \"Taro\"):\n",
    "    comment = \"名字は\" + first + \"で、名前は\" + second + \"です。\"\n",
    "    return comment\n",
    "\n",
    "\n",
    "print(introduce(\"Suzuki\"))"
   ]
  },
  {
   "cell_type": "code",
   "execution_count": 18,
   "metadata": {},
   "outputs": [
    {
     "name": "stdout",
     "output_type": "stream",
     "text": [
      "23.875114784205696\n"
     ]
    }
   ],
   "source": [
    "def bmi(height,weight):\n",
    "    return weight / height ** 2\n",
    "\n",
    "print(bmi(1.65,65))"
   ]
  },
  {
   "cell_type": "code",
   "execution_count": 20,
   "metadata": {},
   "outputs": [
    {
     "name": "stdout",
     "output_type": "stream",
     "text": [
      "1547468953.425927\n"
     ]
    }
   ],
   "source": [
    "import time\n",
    "now_time = time.time()\n",
    "\n",
    "print(now_time)"
   ]
  },
  {
   "cell_type": "code",
   "execution_count": 21,
   "metadata": {},
   "outputs": [
    {
     "name": "stdout",
     "output_type": "stream",
     "text": [
      "1547468994.769226\n"
     ]
    }
   ],
   "source": [
    "from time import time\n",
    "now_time = time()\n",
    "\n",
    "print(now_time)"
   ]
  },
  {
   "cell_type": "code",
   "execution_count": 22,
   "metadata": {},
   "outputs": [
    {
     "name": "stdout",
     "output_type": "stream",
     "text": [
      "1547469026.144153\n"
     ]
    }
   ],
   "source": [
    "from time import time\n",
    "now_time = time()\n",
    "print(now_time)"
   ]
  },
  {
   "cell_type": "code",
   "execution_count": null,
   "metadata": {},
   "outputs": [],
   "source": []
  }
 ],
 "metadata": {
  "kernelspec": {
   "display_name": "Python 3",
   "language": "python",
   "name": "python3"
  },
  "language_info": {
   "codemirror_mode": {
    "name": "ipython",
    "version": 3
   },
   "file_extension": ".py",
   "mimetype": "text/x-python",
   "name": "python",
   "nbconvert_exporter": "python",
   "pygments_lexer": "ipython3",
   "version": "3.6.5"
  }
 },
 "nbformat": 4,
 "nbformat_minor": 2
}
