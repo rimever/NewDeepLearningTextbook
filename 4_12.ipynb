{
 "cells": [
  {
   "cell_type": "code",
   "execution_count": 1,
   "metadata": {},
   "outputs": [
    {
     "name": "stdout",
     "output_type": "stream",
     "text": [
      "ねこ\n",
      "n\n",
      "10\n"
     ]
    }
   ],
   "source": [
    "# 変数nに[ねこ]を代入してください\n",
    "n = \"ねこ\"\n",
    "\n",
    "# 変数nを出力してください\n",
    "print(n)\n",
    "\n",
    "# [n]という文字列を出力してください\n",
    "print(\"n\")\n",
    "\n",
    "# 変数nに 3+ 7という数式を代入してください\n",
    "n = 3 + 7\n",
    "\n",
    "# 変数nを出力してください\n",
    "print(n)"
   ]
  },
  {
   "cell_type": "code",
   "execution_count": null,
   "metadata": {},
   "outputs": [],
   "source": []
  }
 ],
 "metadata": {
  "kernelspec": {
   "display_name": "Python 3",
   "language": "python",
   "name": "python3"
  },
  "language_info": {
   "codemirror_mode": {
    "name": "ipython",
    "version": 3
   },
   "file_extension": ".py",
   "mimetype": "text/x-python",
   "name": "python",
   "nbconvert_exporter": "python",
   "pygments_lexer": "ipython3",
   "version": "3.6.5"
  }
 },
 "nbformat": 4,
 "nbformat_minor": 2
}
